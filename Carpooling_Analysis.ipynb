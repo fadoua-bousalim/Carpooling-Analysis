{
  "cells": [
    {
      "cell_type": "markdown",
      "metadata": {
        "id": "vpbe2k34pzY9"
      },
      "source": [
        "# I. GPU check\n",
        "\n",
        "---\n",
        "\n",
        "\n",
        "\n",
        "---\n",
        "\n"
      ]
    },
    {
      "cell_type": "code",
      "execution_count": null,
      "metadata": {
        "id": "YL8cziWWodgq"
      },
      "outputs": [],
      "source": [
        "import tensorflow as tf\n",
        "gpus = tf.config.list_physical_devices('GPU')"
      ]
    },
    {
      "cell_type": "code",
      "execution_count": null,
      "metadata": {
        "id": "2b9UgLGXoxxN"
      },
      "outputs": [],
      "source": [
        "if gpus :\n",
        "    try :\n",
        "        for gpu in gpus :\n",
        "            tf.config.experimental.set_memory_growth(gpu, True)\n",
        "        logical_gpus =  tf.config.experimental.list_logical_devices('GPU')\n",
        "        print(len(gpus), 'Phyiscal GPUs,', len(logical_gpus), 'Logical GPUs')\n",
        "    except RunTimeError as e :\n",
        "        print(e)"
      ]
    },
    {
      "cell_type": "markdown",
      "metadata": {
        "id": "WCYoxM02p6LC"
      },
      "source": [
        "# II. Imports & functions\n",
        "\n",
        "---\n",
        "---\n",
        "\n"
      ]
    },
    {
      "cell_type": "code",
      "execution_count": null,
      "metadata": {
        "id": "FkuMH2BFDegF"
      },
      "outputs": [],
      "source": [
        "pip install plotly &> /dev/null"
      ]
    },
    {
      "cell_type": "code",
      "execution_count": null,
      "metadata": {
        "id": "0LaIf-f4Dcw4"
      },
      "outputs": [],
      "source": [
        "pip install geoplot &> /dev/null"
      ]
    },
    {
      "cell_type": "code",
      "execution_count": null,
      "metadata": {
        "id": "mHANUGZiORfv"
      },
      "outputs": [],
      "source": [
        "pip install reverse_geocoder &> /dev/null"
      ]
    },
    {
      "cell_type": "code",
      "execution_count": null,
      "metadata": {
        "id": "h-F818ohqE49"
      },
      "outputs": [],
      "source": [
        "import pandas as pd\n",
        "import numpy as np\n",
        "from pandas import ExcelWriter\n",
        "from pandas import ExcelFile\n",
        "import matplotlib.pyplot as plt\n",
        "import plotly.express as px\n",
        "import plotly.graph_objects as go\n",
        "import seaborn as sns\n",
        "import time\n",
        "import datetime\n",
        "from datetime import date\n",
        "from dateutil.relativedelta import relativedelta\n",
        "import json\n",
        "import ast\n",
        "from geopy.distance import geodesic\n",
        "import json\n",
        "from scipy.stats import f_oneway\n",
        "\n",
        "from urllib.request import urlopen\n",
        "import reverse_geocoder as rg\n",
        "\n",
        "import warnings\n",
        "warnings.filterwarnings(\"ignore\")\n",
        "\n",
        "from google.colab import files\n",
        "import plotly\n",
        "# plotly.offline.init_notebook_mode(connected=True)"
      ]
    },
    {
      "cell_type": "code",
      "execution_count": null,
      "metadata": {
        "id": "eTm1mbFU4OLv"
      },
      "outputs": [],
      "source": [
        "# Function to give stats on missing values in a table or dataframe\n",
        "def missing_values_table(df):\n",
        "        mis_val = df.isnull().sum()\n",
        "        mis_val_percent = 100 * df.isnull().sum() / len(df)\n",
        "        mis_val_table = pd.concat([mis_val, mis_val_percent], axis=1)\n",
        "        mis_val_table_ren_columns = mis_val_table.rename(\n",
        "        columns = {0 : 'Missing Values', 1 : '% of Total Values'})\n",
        "        mis_val_table_ren_columns = mis_val_table_ren_columns[\n",
        "            mis_val_table_ren_columns.iloc[:,1] != 0].sort_values(\n",
        "        '% of Total Values', ascending=False).round(1)\n",
        "        print (\"Your selected dataframe has \" + str(df.shape[1]) + \" columns.\\n\"\n",
        "            \"There are \" + str(mis_val_table_ren_columns.shape[0]) +\n",
        "              \" columns that have missing values.\")\n",
        "        return mis_val_table_ren_columns"
      ]
    },
    {
      "cell_type": "code",
      "execution_count": null,
      "metadata": {
        "id": "n_khxSK0WGFP"
      },
      "outputs": [],
      "source": [
        "# Function to remove outliers from a dataframe's column\n",
        "def remove_outliers(df, col1, col2, coef) :\n",
        "  for value in df[col1].unique() :\n",
        "    q1 = df[df[col1]==value][col2].quantile(0.25)\n",
        "    q3 = df[df[col1]==value][col2].quantile(0.75)\n",
        "    iqr = q3 - q1\n",
        "    low = q1 - coef*iqr\n",
        "    high = q3 + coef*iqr\n",
        "    df[df[col1]==value] = df[df[col1]==value].loc[(df[df[col1]==value][col2] > low) & (df[df[col1]==value][col2] < high)]"
      ]
    },
    {
      "cell_type": "code",
      "execution_count": null,
      "metadata": {
        "id": "ddUOsmzTd0zV"
      },
      "outputs": [],
      "source": [
        "# Function to calculate distance from coordinates\n",
        "def calculate_distance(row):\n",
        "    origin_coords = (row['origin_lat'], row['origin_lng'])\n",
        "    dest_coords = (row['destination_lat'], row['destination_lng'])\n",
        "    return geodesic(origin_coords, dest_coords).meters"
      ]
    },
    {
      "cell_type": "code",
      "execution_count": null,
      "metadata": {
        "id": "sYD94MtRGY5y"
      },
      "outputs": [],
      "source": [
        "# Function for string to tuple\n",
        "def eval_value(string):\n",
        "    return eval(string)"
      ]
    },
    {
      "cell_type": "code",
      "execution_count": null,
      "metadata": {
        "id": "hZvzdcLPGuJA"
      },
      "outputs": [],
      "source": [
        "# Function to get city and country from coordinates\n",
        "# def getplace(lat, lon):\n",
        "#     key = \"key\"\n",
        "#     url = \"https://maps.googleapis.com/maps/api/geocode/json?\"\n",
        "#     url += \"latlng=%s,%s&sensor=false&key=%s\" % (lat, lon, key)\n",
        "#     v = urlopen(url).read()\n",
        "#     j = json.loads(v)\n",
        "#     components = j['results'][0]['address_components']\n",
        "#     country = town = None\n",
        "#     for c in components:\n",
        "#         if \"country\" in c['types']:\n",
        "#             country = c['long_name']\n",
        "#         if \"postal_town\" in c['types']:\n",
        "#             town = c['long_name']\n",
        "#     return town, country\n",
        "\n",
        "def getcountry(lat, lon):\n",
        "  result = rg.search((lat, lon))\n",
        "  return result[0]['cc']\n",
        "\n",
        "def getreg(lat, lon):\n",
        "  result = rg.search((lat, lon))\n",
        "  return result[0]['admin1']\n",
        "\n",
        "def getdep(lat, lon):\n",
        "  result = rg.search((lat, lon))\n",
        "  return result[0]['admin2']\n",
        "\n",
        "def getcity(lat, lon):\n",
        "  result = rg.search((lat, lon))\n",
        "  return result[0]['name']"
      ]
    },
    {
      "cell_type": "markdown",
      "metadata": {
        "id": "aIFhW9dRqTDl"
      },
      "source": [
        "# III. Data loading & preprocessing\n",
        "\n",
        "---\n",
        "\n",
        "\n",
        "\n",
        "---\n",
        "\n",
        "\n",
        "\n"
      ]
    },
    {
      "cell_type": "markdown",
      "metadata": {
        "id": "z1WGHCYAIztx"
      },
      "source": [
        "### 1. Data loading\n",
        "\n"
      ]
    },
    {
      "cell_type": "code",
      "execution_count": null,
      "metadata": {
        "id": "RXy1wLvpaF2h"
      },
      "outputs": [],
      "source": [
        "from google.colab import drive\n",
        "drive.mount('/content/drive')"
      ]
    },
    {
      "cell_type": "code",
      "execution_count": null,
      "metadata": {
        "id": "h09cWwMsOULM"
      },
      "outputs": [],
      "source": [
        "# routes_og = pd.read_csv(\"/content/drive/MyDrive/Work/Applications/Ynstant/routes.csv\")\n",
        "routes_og = pd.read_csv(\"/content/drive/MyDrive/ColabNotebooks/routes.csv\")\n",
        "routes_og.columns"
      ]
    },
    {
      "cell_type": "code",
      "execution_count": null,
      "metadata": {
        "id": "rtbI0x0LJqIG"
      },
      "outputs": [],
      "source": [
        "routes_og.head()"
      ]
    },
    {
      "cell_type": "markdown",
      "metadata": {
        "id": "sGE7KVKmA3KB"
      },
      "source": [
        "### 2. Data pre-processing"
      ]
    },
    {
      "cell_type": "code",
      "execution_count": null,
      "metadata": {
        "id": "FpNVu0BLUzar"
      },
      "outputs": [],
      "source": [
        "# Isolement des dimensions d'intérêt (on enlève polyline qui ne semble pas apporter des informations supplémentaires compréhensibles)\n",
        "\n",
        "routes = routes_og[['_id', 'driver_uid', 'origin', 'destination', 'departure', 'arrival','length', 'reward', 'status', 'status_history']]"
      ]
    },
    {
      "cell_type": "code",
      "execution_count": null,
      "metadata": {
        "id": "9q1QDeWWY3A8"
      },
      "outputs": [],
      "source": [
        "# Transformation des colonnes de type object à des colonnes plus explicites\n",
        "\n",
        "routes['origin'] = routes['origin'].apply(ast.literal_eval)\n",
        "routes['destination'] = routes['destination'].apply(ast.literal_eval)\n",
        "routes['reward'] = routes['reward'].apply(ast.literal_eval)\n",
        "\n",
        "all_keys = set().union(*(d.keys() for d in routes['origin']))\n",
        "for key in all_keys:\n",
        "  routes[f'origin_{key}'] = routes['origin'].apply(lambda x: x.get(key))\n",
        "routes.drop('origin', axis=1, inplace=True)\n",
        "\n",
        "all_keys = set().union(*(d.keys() for d in routes['destination']))\n",
        "for key in all_keys:\n",
        "  routes[f'destination_{key}'] = routes['destination'].apply(lambda x: x.get(key))\n",
        "routes.drop('destination', axis=1, inplace=True)\n",
        "\n",
        "all_keys = set().union(*(d.keys() for d in routes['reward']))\n",
        "for key in all_keys:\n",
        "  routes[f'reward_{key}'] = routes['reward'].apply(lambda x: x.get(key))\n",
        "routes.drop('reward', axis=1, inplace=True)\n",
        "\n",
        "routes.head(2)"
      ]
    },
    {
      "cell_type": "code",
      "execution_count": null,
      "metadata": {
        "id": "mS0Sj8z_pN8w"
      },
      "outputs": [],
      "source": [
        "# Transformation de reward_amount\n",
        "\n",
        "all_keys = set().union(*(d.keys() for d in routes['reward_amount']))\n",
        "for key in all_keys:\n",
        "  routes[f'reward_{key}'] = routes['reward_amount'].apply(lambda x: x.get(key))\n",
        "routes.drop('reward_amount', axis=1, inplace=True)"
      ]
    },
    {
      "cell_type": "code",
      "execution_count": null,
      "metadata": {
        "id": "97fCYrcGo8qi"
      },
      "outputs": [],
      "source": [
        "# Copie en cas de besoin\n",
        "routes_bis = routes.copy()"
      ]
    },
    {
      "cell_type": "code",
      "execution_count": null,
      "metadata": {
        "id": "1e1VkTJxG2sr"
      },
      "outputs": [],
      "source": [
        "# Transformation de status_history\n",
        "\n",
        "routes['status_history'] = routes['status_history'].apply(eval_value)\n",
        "\n",
        "created = []\n",
        "in_progress = []\n",
        "done = []\n",
        "canceled = []\n",
        "\n",
        "for i in range(len(routes['status_history'])):\n",
        "  times = []\n",
        "  statuses = []\n",
        "  for d in routes['status_history'][i]:\n",
        "    status = pd.Series(d['status'])\n",
        "    time_update = pd.Timestamp(d['time_update'])\n",
        "    times.append(time_update)\n",
        "    statuses.append(status)\n",
        "  if str(statuses[0][0]).lower() != 'created':\n",
        "    print(i) #vérifier que le premier status est toujours = 'CREATED'\n",
        "  if len(statuses) == 1:\n",
        "    created.append(times[0])\n",
        "    canceled.append(None)\n",
        "    in_progress.append(None)\n",
        "    done.append(None)\n",
        "  if len(statuses) > 1 and str(statuses[-1][0]).lower() == 'canceled':\n",
        "    created.append(times[0])\n",
        "    canceled.append(times[-1])\n",
        "    in_progress.append(None)\n",
        "    done.append(None)\n",
        "  if len(statuses) > 1 and str(statuses[-1][0]).lower() == 'done':\n",
        "    created.append(times[0])\n",
        "    canceled.append(None)\n",
        "    in_progress.append(None)\n",
        "    done.append(times[-1])\n",
        "  if len(statuses) > 1 and str(statuses[-1][0]).lower() == 'in_progress':\n",
        "    created.append(times[0])\n",
        "    canceled.append(None)\n",
        "    in_progress.append(times[-1])\n",
        "    done.append(None)\n",
        "\n",
        "# Création des timestamp de création ainsi que du dernier status\n",
        "\n",
        "routes['created_time_update'] = pd.DataFrame(created)\n",
        "routes['in_progress_time_update'] = pd.DataFrame(in_progress)\n",
        "routes['done_time_update'] = pd.DataFrame(done)\n",
        "routes['canceled_time_update'] = pd.DataFrame(canceled)\n",
        "\n",
        "routes.drop('status_history', axis=1, inplace=True)\n",
        "routes.head(2)"
      ]
    },
    {
      "cell_type": "code",
      "execution_count": null,
      "metadata": {
        "id": "u_LbdQyIO2jX"
      },
      "outputs": [],
      "source": [
        "routes.dtypes"
      ]
    },
    {
      "cell_type": "code",
      "execution_count": null,
      "metadata": {
        "id": "nRM-Z9OGkUp7"
      },
      "outputs": [],
      "source": [
        "routes['length'] = routes['length'].astype(int)\n",
        "routes['departure'] = pd.to_datetime(routes['departure'])\n",
        "routes['arrival'] = pd.to_datetime(routes['arrival'])\n",
        "routes['ride_rewarded'] = (routes['reward_value'].notnull()) & (routes['reward_value'] > 0)"
      ]
    },
    {
      "cell_type": "code",
      "execution_count": null,
      "metadata": {
        "id": "I2lcnS4ci1RG"
      },
      "outputs": [],
      "source": [
        "# Feature engineering\n",
        "\n",
        "routes['trip_duration_min'] = (routes['arrival'] - routes['departure']).dt.total_seconds() / 60\n",
        "routes['departure_day'] = routes['departure'].dt.date\n",
        "routes['departure_hour'] = routes['departure'].dt.hour\n",
        "routes['departure_dayofweek'] = routes['departure'].dt.dayofweek\n",
        "routes['departure_month'] = routes['departure'].dt.month\n",
        "routes['distance'] = routes.apply(calculate_distance, axis=1)\n",
        "routes['trip_duration_bin'] = pd.qcut(routes['trip_duration_min'], 5, labels=['very_short', 'short', 'medium', 'long', 'very_long'])"
      ]
    },
    {
      "cell_type": "code",
      "execution_count": null,
      "metadata": {
        "id": "NbVIzMeTKENy"
      },
      "outputs": [],
      "source": [
        "routes.head(2)"
      ]
    },
    {
      "cell_type": "code",
      "execution_count": null,
      "metadata": {
        "id": "bN1RNXfPMJWs"
      },
      "outputs": [],
      "source": [
        "# Copie en cas de besoin\n",
        "routes_bis_bis = routes.copy()"
      ]
    },
    {
      "cell_type": "code",
      "execution_count": null,
      "metadata": {
        "id": "XKS-0bpzKlf8"
      },
      "outputs": [],
      "source": [
        "# Vérifications de données manquantes\n",
        "\n",
        "missing_values_table(routes)"
      ]
    },
    {
      "cell_type": "code",
      "execution_count": null,
      "metadata": {
        "id": "oQjiYr-j1Bwy"
      },
      "outputs": [],
      "source": [
        "# Description sommaire des données\n",
        "\n",
        "routes.describe(include='all')"
      ]
    },
    {
      "cell_type": "code",
      "execution_count": null,
      "metadata": {
        "id": "OLjDB07tMB6d"
      },
      "outputs": [],
      "source": [
        "# Omission des colonnes vides + destination_public_transport qui ne prend que la valeur []\n",
        "\n",
        "routes = routes[['_id', 'driver_uid', 'departure', 'arrival', 'length', 'status',\n",
        "       'origin_city', 'origin_lat', 'origin_address', 'origin_lng', 'origin_short_label', 'origin_public_transport',\n",
        "       'destination_city', 'destination_lat', 'destination_address', 'destination_lng', 'destination_short_label',\n",
        "       'trip_duration_min', 'trip_duration_bin', 'distance',\n",
        "       'reward_status', 'reward_value', 'reward_currency', 'ride_rewarded',\n",
        "       'departure_day', 'departure_hour', 'departure_dayofweek', 'departure_month',\n",
        "       'created_time_update', 'in_progress_time_update', 'done_time_update', 'canceled_time_update']]"
      ]
    },
    {
      "cell_type": "code",
      "execution_count": null,
      "metadata": {
        "id": "_8MxPO0FcxtF"
      },
      "outputs": [],
      "source": [
        "routes.info()"
      ]
    },
    {
      "cell_type": "code",
      "execution_count": null,
      "metadata": {
        "id": "eX77a11YKtXM"
      },
      "outputs": [],
      "source": [
        "# Description sommaire des données\n",
        "\n",
        "routes.describe(include='all')"
      ]
    },
    {
      "cell_type": "markdown",
      "metadata": {
        "id": "pjmCHVdiLarA"
      },
      "source": [
        "> Nous constatons que les données ne contiennent pas de données manquantes, ni de doublons dans les ID des trajets.\n",
        "\n",
        "> Nous remarquons aussi qu'il y a 57,447 conducteurs uniques, pour un total de 571,125 trajets, ce qui fait une moyenne de ~10 trajets par conducteurs.\n",
        "\n",
        "> De la description, nous voyons déjà quelques statistiques intéressantes, comme par exemple le fait que le conducteur `mNSQAulMyrMkW8oCaC45xCDuPD92` fait partie des top utilisateurs, avec 1,066 trajets postés (nous creuserons les statistiques descriptives plus en détail dans le paragraphe suivant)."
      ]
    },
    {
      "cell_type": "code",
      "execution_count": null,
      "metadata": {
        "id": "mNe-V1VPOL1Q"
      },
      "outputs": [],
      "source": [
        "# Vérification de la cohérences des données\n",
        "\n",
        "print(routes[routes['departure'] > routes['arrival']])\n",
        "print(routes[(routes['canceled_time_update'].notnull()) & (routes['status'].str.lower() != 'canceled')])\n",
        "print(routes[(routes['in_progress_time_update'].notnull()) & (routes['status'].str.lower() != 'in_progress')])\n",
        "print(routes[(routes['done_time_update'].notnull()) & (routes['status'].str.lower() != 'done')])\n",
        "print(\"Correlation between Trip Length and Distance:\", routes['length'].corr(routes['distance'])) # La distance et la durée sont corrélées, ce qui est très attendu"
      ]
    },
    {
      "cell_type": "code",
      "execution_count": null,
      "metadata": {
        "id": "pWL63QUmzw2x"
      },
      "outputs": [],
      "source": [
        "fig = px.box(routes, x=\"status\", y=\"trip_duration_min\")\n",
        "fig.show()"
      ]
    },
    {
      "cell_type": "code",
      "execution_count": null,
      "metadata": {
        "id": "02vAaRdD0HWD"
      },
      "outputs": [],
      "source": [
        "routes[routes['trip_duration_min']> 7000][['origin_city', 'origin_lat', 'origin_address', 'origin_lng', 'origin_short_label', 'origin_public_transport','destination_city', 'destination_lat', 'destination_address', 'destination_lng', 'destination_short_label',]]"
      ]
    },
    {
      "cell_type": "markdown",
      "metadata": {
        "id": "yjZ5oYs4QRA6"
      },
      "source": [
        "> Nous constatons qu'il y a des \"outliers\" dans les données. A titre d'exemple, il y a des trajets qui durent plus de 7000 minutes, i.e plus de 4 jours, dont un partant du Vietnam à Paris. Nous allons les garder car en théorie cela reste des trajets possibles (un trajet du Vietnam à Paris peut effectivement durer ~5 jours). Nous n'allons pas creuses ces cas plus en détail car ils ne sont pas nombreux comme on peut le voir sur les box plots de distribution.\n",
        "\n",
        "\n",
        "> A part ceci, nous ne constatons pas d'anomalie dans les données jusque là (pas de données manquantes, ou incohérentes), nous allons donc procéder à l'analyse descriptive."
      ]
    },
    {
      "cell_type": "markdown",
      "metadata": {
        "id": "Ez9C58u9A8Pa"
      },
      "source": [
        "# IV. Descriptive analysis"
      ]
    },
    {
      "cell_type": "markdown",
      "metadata": {
        "id": "V0N3o22OMRVe"
      },
      "source": [
        "> Avant de faire des analyses poussées, il est important de comprendre ce qui se passe. Ainsi, une analyse descriptive des faits et des patterns existants est nécessaire et constitue la partie la plus cruciale dans la construction des métriques impactantes d'un point de vue business.\n",
        "\n"
      ]
    },
    {
      "cell_type": "markdown",
      "metadata": {
        "id": "2kDUOBDPn8WB"
      },
      "source": [
        "### 1. Daily usage - Rides"
      ]
    },
    {
      "cell_type": "code",
      "execution_count": null,
      "metadata": {
        "id": "iIoRCzy3I_Tw"
      },
      "outputs": [],
      "source": [
        "# Evolution de la moyenne des trajets quotidiens par mois\n",
        "\n",
        "routes['month'] = pd.to_datetime(routes['departure_day']).dt.to_period('M')\n",
        "rides_per_day_per_month = routes.groupby(['departure_day', 'month'])['_id'].nunique().reset_index()\n",
        "rides_per_day_per_month.columns = ['departure day', 'month', 'number_of_rides']\n",
        "average_daily_rides_per_month = round(rides_per_day_per_month.groupby('month')['number_of_rides'].mean().reset_index(name='average daily rides'),0)\n",
        "average_daily_rides_per_month['month'] = average_daily_rides_per_month['month'].astype(str)\n",
        "\n",
        "fig = px.line(average_daily_rides_per_month, x='month', y='average daily rides', title='Average Number of Daily Rides per Month')\n",
        "fig.show()"
      ]
    },
    {
      "cell_type": "code",
      "execution_count": null,
      "metadata": {
        "id": "6u5c-5V9otzM"
      },
      "outputs": [],
      "source": [
        "# Visualisation du nomber quotidien de trajets par status\n",
        "\n",
        "rides_per_day_status = routes.groupby(['departure_day','status'])['_id'].nunique().reset_index()\n",
        "rides_per_day_status.columns = ['departure day', 'ride status', 'number of rides']\n",
        "\n",
        "fig = px.bar(rides_per_day_status, x='departure day', y='number of rides', color='ride status', title='Number of Rides by Day and Status', barmode='stack', category_orders={'ride status': ['CREATED','CANCELED','DONE','IN_PROGRESS']})\n",
        "fig.show()"
      ]
    },
    {
      "cell_type": "code",
      "execution_count": null,
      "metadata": {
        "id": "u8uCWGW2A9lk"
      },
      "outputs": [],
      "source": [
        "# Visualisation du nomber quotidien de trajets par status (100% stacked bars)\n",
        "\n",
        "pivot_rs = rides_per_day_status.pivot(index='departure day', columns='ride status', values='number of rides')\n",
        "pivot_rs = round(pivot_rs.div(pivot_rs.sum(axis=1), axis=0) * 100,2)\n",
        "rides_per_day_status_normalized = pivot_rs.reset_index().melt(id_vars='departure day', var_name='ride status', value_name='percentage')\n",
        "\n",
        "fig = px.bar(rides_per_day_status_normalized, x='departure day', y='percentage', color='ride status', title='Number of Rides by Day and Status (Stacked to 100%)', barmode='stack', category_orders={'ride status': ['CREATED','CANCELED','DONE','IN_PROGRESS']})\n",
        "fig.show()"
      ]
    },
    {
      "cell_type": "markdown",
      "metadata": {
        "id": "BsI2WkOQAh8c"
      },
      "source": [
        "> Entre 4.5k et 6k trajets sont effectués chaque jour, et ce depuis février 2024. Le nombre de trajets quotidiens est en augmentation constante: On est passé de 5,710 trajets en moyenne par jour en janvier 2024, à 6,161 trajets en moyenne par jour en février 2024 (+8%), versus 3,640 en décembre 2023 (+69%).\n",
        "\n",
        "> Une grande partie des trajets quotidiens est finsalisée, notamment depuis Juillet 2023 (i.e le moment où le nombre de trajets a commencé à devenir significatif). Le nombre de trajets finalisés représente plus de 75% des trajets.\n",
        "\n",
        "> Le nombre de trajets annulés a connu une légère augmentation depuis Novembre 2023, passant de ~20% à ~30% des trajets.\n",
        "\n",
        "> Il y a des trajets qui ont le statut `CREATED`uniquement, un coup d'oeil sur la donnée montre que c'est des trajets qui ont été annulés mais dont l'ID a changé. L'ID des trajets n'est pas consistant, et un des points d'amélioration possibles d'un point de vue data serait de créer un ID plus consistant qui dépend de l'horaire du trajet, l'ID du client, et les coorodnnées de départ et de destination.\n",
        "\n"
      ]
    },
    {
      "cell_type": "code",
      "execution_count": null,
      "metadata": {
        "id": "Oct3r3s-FSZv"
      },
      "outputs": [],
      "source": [
        "# Visualisation du nombre quotidien de trajets par status de récompense\n",
        "\n",
        "rides_per_day_reward = routes.groupby(['departure_day','ride_rewarded'])['_id'].nunique().reset_index()\n",
        "rides_per_day_reward.columns = ['departure day', 'ride rewarded', 'number of rides']\n",
        "\n",
        "fig = px.bar(rides_per_day_reward, x='departure day', y='number of rides', color='ride rewarded', title='Number of Rides by Day and Reward', barmode='stack')\n",
        "fig.show()"
      ]
    },
    {
      "cell_type": "code",
      "execution_count": null,
      "metadata": {
        "id": "n4dhXoIkFyO5"
      },
      "outputs": [],
      "source": [
        "# Visualisation du nomber quotidien de trajets par status de récompense (100% stacked bars)\n",
        "\n",
        "pivot_rr = rides_per_day_reward.pivot(index='departure day', columns='ride rewarded', values='number of rides')\n",
        "pivot_rr = round(pivot_rr.div(pivot_rr.sum(axis=1), axis=0) * 100,2)\n",
        "rides_per_day_reward_normalized = pivot_rr.reset_index().melt(id_vars='departure day', var_name='ride rewarded', value_name='percentage')\n",
        "\n",
        "fig = px.bar(rides_per_day_reward_normalized, x='departure day', y='percentage', color='ride rewarded', title='Number of Rides by Day and Reward Status (Stacked to 100%)', barmode='stack')\n",
        "fig.show()"
      ]
    },
    {
      "cell_type": "markdown",
      "metadata": {
        "id": "aRKXHxG-GE5Y"
      },
      "source": [
        "\n",
        "\n",
        "> Entre 80% et 92% des trajets (jusqu'à 7.5k trajets par jour) sont sans passager.\n",
        "\n"
      ]
    },
    {
      "cell_type": "code",
      "execution_count": null,
      "metadata": {
        "id": "Sp2rKyp_47H0"
      },
      "outputs": [],
      "source": [
        "# Visualisation du nomber quotidien de trajets par longueur du trajet\n",
        "\n",
        "bins = [0, 10, 30, 60, 120, float('inf')] # au vu de des quantiles de la durée des trajets (cf Description sommaire des données à la fin du paragraphe Data pre-processing), nous allons adapter la catégorisation pour qu'elle soit plus intuitive\n",
        "routes['trip_duration_bin'] = pd.cut(routes['trip_duration_min'], bins=bins, labels=['very_short < 10min', 'short [10min ; 30min[', 'medium [30min ; 60min[', 'long [60min ; 120min[', 'very_long [120min ; 8,381min]'])\n",
        "\n",
        "rides_per_day_length = routes.groupby(['departure_day','trip_duration_bin'])['_id'].nunique().reset_index()\n",
        "rides_per_day_length.columns = ['departure day', 'trip duration category', 'number of rides']\n",
        "\n",
        "fig = px.bar(rides_per_day_length, x='departure day', y='number of rides', color='trip duration category', title='Number of Rides by Day and Ride Length', barmode='stack')\n",
        "fig.show()"
      ]
    },
    {
      "cell_type": "code",
      "execution_count": null,
      "metadata": {
        "id": "99d7YNW2Cfsb"
      },
      "outputs": [],
      "source": [
        "# Visualisation du nomber quotidien de trajets par longueur du trajet (100% stacked bars)\n",
        "\n",
        "pivot_rl = rides_per_day_length.pivot(index='departure day', columns='trip duration category', values='number of rides')\n",
        "pivot_rl = round(pivot_rl.div(pivot_rl.sum(axis=1), axis=0) * 100,2)\n",
        "rides_per_day_length_normalized = pivot_rl.reset_index().melt(id_vars='departure day', var_name='trip duration category', value_name='percentage')\n",
        "\n",
        "fig = px.bar(rides_per_day_length_normalized, x='departure day', y='percentage', color='trip duration category', title='Number of Rides by Day and Ride Length (Stacked to 100%)', barmode='stack')\n",
        "fig.show()"
      ]
    },
    {
      "cell_type": "markdown",
      "metadata": {
        "id": "DZEoudXONPeC"
      },
      "source": [
        "> Quelques statistiques:\n",
        "\n",
        "> *   40% à 50% des trajets (entre 3k et 3.7k trajets par jour) sont des trajets très courts (moins de 10 minutes)\n",
        "> *   ~ 40% des trajets (~ 3k trajets par jours) sont des trajets courts (entre 10 et 30 minutes)\n",
        "> *   10% à 15% des trajets quotidiens (~ 700-800 trajets par jour) sont moyens (entre 30 minutes et 1 heure)\n",
        "> *  2% à 3% des trajets (~150 trajets par jour) sont longs (entre 1 et 2 heures)\n",
        "> *  <= 3% des trajets (150 à 200 trajets par jour) sont très longs (plus de 2h, avec un maximum à 8,381 minutes = ~5 jours et 19 heures)"
      ]
    },
    {
      "cell_type": "markdown",
      "metadata": {
        "id": "Rho7Ktc-Q0jv"
      },
      "source": [
        "### 2. Daily usage - Users"
      ]
    },
    {
      "cell_type": "code",
      "execution_count": null,
      "metadata": {
        "id": "m1LYV1UERd8N"
      },
      "outputs": [],
      "source": [
        "# Visualisation du nomber quotidien de conducteurs par status du conducteur\n",
        "\n",
        "daily_activity = routes.groupby(['driver_uid', 'departure_day'])['ride_rewarded'].value_counts().unstack(fill_value=0).reset_index()\n",
        "daily_activity.columns = ['driver_uid', 'departure_day', 'non_rewarded_rides_count', 'rewarded_rides_count']\n",
        "\n",
        "daily_activity['driver_status'] = 'Rewarded'\n",
        "daily_activity.loc[(daily_activity['rewarded_rides_count'] == 0) & (daily_activity['non_rewarded_rides_count'] > 0), 'driver_status'] = 'Non-Rewarded'\n",
        "daily_activity.loc[(daily_activity['rewarded_rides_count'] > 0) & (daily_activity['non_rewarded_rides_count'] > 0), 'driver_status'] = 'Both'\n",
        "\n",
        "users_per_status_day = daily_activity.groupby(['departure_day','driver_status'])['driver_uid'].nunique().reset_index(name='number of users')\n",
        "users_per_status_day.columns = ['departure day', 'driver status', 'number of users']\n",
        "\n",
        "fig = px.bar(users_per_status_day, x='departure day', y='number of users', color='driver status', title='Number of Drivers by Day and Status', barmode='stack', category_orders={'driver status': ['Both','Rewarded','Non-Rewarded']})\n",
        "fig.show()"
      ]
    },
    {
      "cell_type": "code",
      "execution_count": null,
      "metadata": {
        "id": "pu3oG1ghYarS"
      },
      "outputs": [],
      "source": [
        "# Visualisation du nomber quotidien de conducteurs par status du conducteur (100% stacked bars)\n",
        "\n",
        "pivot_ds = users_per_status_day.pivot(index='departure day', columns='driver status', values='number of users')\n",
        "pivot_ds = round(pivot_ds.div(pivot_ds.sum(axis=1), axis=0) * 100,2)\n",
        "users_per_status_day_normalized = pivot_ds.reset_index().melt(id_vars='departure day', var_name='driver status', value_name='percentage')\n",
        "\n",
        "fig = px.bar(users_per_status_day_normalized, x='departure day', y='percentage', color='driver status', title='Number of Drivers by Day and Status (Stacked to 100%)', barmode='stack', category_orders={'driver status': ['Both','Rewarded','Non-Rewarded']})\n",
        "fig.show()"
      ]
    },
    {
      "cell_type": "markdown",
      "metadata": {
        "id": "yoRlEeMYYxZN"
      },
      "source": [
        "> En termes de conducteurs, on a atteint ~3k conducteur par jour en février 2024. En zoomant sur le type de trajet : **85% à 90% des conducteurs quotidiens (2.5k à 3k conducteur par jour) n'effectuent que des trajets récompensés, i.e sans passager**, 10% à 13% des conducteurs font les deux, et moins de 3% ne font que des trajets non récompensés."
      ]
    },
    {
      "cell_type": "code",
      "execution_count": null,
      "metadata": {
        "id": "b_YYzkiKcPyX"
      },
      "outputs": [],
      "source": [
        "# Distribution du nombre de trajets par conducteur\n",
        "\n",
        "rides_per_user = routes.groupby(['driver_uid'])['_id'].nunique().reset_index(name='number of rides')\n",
        "months_per_user = routes.groupby(['driver_uid'])['month'].nunique().reset_index(name='number of months')\n",
        "\n",
        "fig = px.histogram(rides_per_user, x='number of rides', nbins=5000, title='Distribution of Number of Rides per User')\n",
        "fig.show()"
      ]
    },
    {
      "cell_type": "code",
      "execution_count": null,
      "metadata": {
        "id": "tDxSuTpjdIqA"
      },
      "outputs": [],
      "source": [
        "fig = px.box(rides_per_user, y=\"number of rides\")\n",
        "fig.show()"
      ]
    },
    {
      "cell_type": "code",
      "execution_count": null,
      "metadata": {
        "id": "gQrJ84ummU7S"
      },
      "outputs": [],
      "source": [
        "# Distribution du nombre de mois actifs par conducteur\n",
        "\n",
        "fig = px.histogram(months_per_user, x='number of months', nbins=30, title='Distribution of Number of Active Months per User')\n",
        "fig.update_xaxes(tickmode='linear')\n",
        "fig.show()"
      ]
    },
    {
      "cell_type": "code",
      "execution_count": null,
      "metadata": {
        "id": "yZRgwMVamoIq"
      },
      "outputs": [],
      "source": [
        "fig = px.box(months_per_user, y=\"number of months\")\n",
        "fig.show()"
      ]
    },
    {
      "cell_type": "code",
      "execution_count": null,
      "metadata": {
        "id": "7QirR566j_Ev"
      },
      "outputs": [],
      "source": [
        "# Distribution du nombre de trajets mensuel moyen par conducteur\n",
        "\n",
        "rides_per_month_per_user = pd.merge(rides_per_user, months_per_user, on='driver_uid')\n",
        "rides_per_month_per_user['rides_per_user_per_month'] = rides_per_month_per_user['number of rides'] / rides_per_month_per_user['number of months']\n",
        "\n",
        "fig = px.histogram(rides_per_month_per_user, x='rides_per_user_per_month', nbins=500, title='Distribution of Number of Average Monthly Rides per User')\n",
        "fig.show()"
      ]
    },
    {
      "cell_type": "code",
      "execution_count": null,
      "metadata": {
        "id": "KViyb4jelCRh"
      },
      "outputs": [],
      "source": [
        "fig = px.box(rides_per_month_per_user, y=\"rides_per_user_per_month\")\n",
        "fig.show()"
      ]
    },
    {
      "cell_type": "markdown",
      "metadata": {
        "id": "OjxYL0UTeGZR"
      },
      "source": [
        "> 33% des conducteurs ont effectué un seul trajet, 50% ont effectué moins de 3 trajets, et 75% ont effectué moins de 7 trajets.\n",
        "\n",
        "> A partir de ces statistiques, nous pouvons créer une métrique de performance par conducteur afin d'isoler les conducteurs fidèles ou ce qu'on peut appeler les top users. Ce type de users est important à détecter car un échange avec ces users peut nous donner des indications sur ce qui pourrait faire fidéliser le reste (c'est un segment déjà fidèle).\n",
        "\n",
        "> Vu que 75% des conducteurs font moins de 7 trajets, sont actifs pendant uniquement 1 mois, et font moins de 6 trajets par mois en moyenne, nous pouvons considérer tout conducteurs qui se situe au dessus de ces valeurs et qui a été actif récemment un conducteur \"fidèle\" (nous pouvons mieux explorer la notion de rétention, i.e l'étalement dans le temps de l'activité par exemple, et créer ainsi une métrique mixte de \"fidélisation\" ou \"non churn\").\n",
        "\n",
        "> On a également vu qu'il y a des users qui ont fait plus de 50 trajets par mois, cela vaudrait le coup de vérifier ce que ces conducteurs font et pourquoi (dans le chart ci-dessous, on voit que ces top users font aussi en majorité uniquement des trajets sans passagers, mais relativement à la distribution globale, ils font plus un mixe des deux que le reste des conducteurs)."
      ]
    },
    {
      "cell_type": "code",
      "execution_count": null,
      "metadata": {
        "id": "6CpLKV40n_2G"
      },
      "outputs": [],
      "source": [
        "# Exemple de métrique de performance\n",
        "\n",
        "driver_performance = routes.groupby('driver_uid').agg(\n",
        "    total_trips = ('_id', 'nunique'),\n",
        "    months = ('month', 'nunique'),\n",
        "    avg_trip_length = ('length', 'mean'),\n",
        "    last_trip = ('departure_day', 'max'),\n",
        ")\n",
        "driver_performance['completion_rate'] = routes[routes['status'] == 'DONE'].groupby('driver_uid')['driver_uid'].count() / driver_performance['total_trips']\n",
        "driver_performance['avg_rides_per_month'] = round(driver_performance['total_trips'] / driver_performance['months'])\n",
        "\n",
        "driver_performance[\n",
        "    (driver_performance['total_trips'] > 7)\n",
        "    & (driver_performance['last_trip'] > pd.Timestamp(pd.Timestamp('today') - relativedelta(months=3)).date())\n",
        "    & (driver_performance['completion_rate'] > 0.9)\n",
        "    & (driver_performance['months'] > 1)\n",
        "    & (driver_performance['avg_rides_per_month'] > 6)\n",
        "    ].sort_values(by=['completion_rate','total_trips'], ascending=False)"
      ]
    },
    {
      "cell_type": "code",
      "execution_count": null,
      "metadata": {
        "id": "QAgkEVLi81Vg"
      },
      "outputs": [],
      "source": [
        "# Visualisation du nomber quotidien de conducteurs par status du conducteur - Zoom sur top users\n",
        "\n",
        "driver_performance['avg_rides_per_month'] = round(driver_performance['total_trips'] / driver_performance['months'])\n",
        "top_users = pd.merge(driver_performance[driver_performance['avg_rides_per_month'] > 50], daily_activity, on='driver_uid', how='inner')\n",
        "\n",
        "top_users = top_users.groupby(['departure_day','driver_status'])['driver_uid'].nunique().reset_index(name='number of users')\n",
        "top_users.columns = ['departure day', 'driver status', 'number of users']\n",
        "\n",
        "fig = px.bar(top_users, x='departure day', y='number of users', color='driver status', title='Number of Drivers by Day and Status', barmode='stack', category_orders={'driver status': ['Both','Rewarded','Non-Rewarded']})\n",
        "fig.show()"
      ]
    },
    {
      "cell_type": "markdown",
      "metadata": {
        "id": "xb8ZFQeI6YmA"
      },
      "source": [
        "> La part des conducteurs qui font au moins un trajet non récompensé est plus grande comparée à celle de la moyenne de tous les utilisateurs (le mauve + verts représentent une part relativement plus grande comparée à celle du chart fait sur tous les users)."
      ]
    },
    {
      "cell_type": "markdown",
      "metadata": {
        "id": "jenms4avf1_N"
      },
      "source": [
        "### 3. Aquisition & rétention"
      ]
    },
    {
      "cell_type": "code",
      "execution_count": null,
      "metadata": {
        "id": "Ya6n0OMjgBIE"
      },
      "outputs": [],
      "source": [
        "# Création du status du conducteur (new/retuning) et du nombre de jour après la première utilisation\n",
        "\n",
        "routes_sorted = routes.sort_values(by=['driver_uid', 'departure_day'])\n",
        "previous_values = routes_sorted[['driver_uid', 'departure_day']].drop_duplicates()\n",
        "previous_values['previous_departure_day'] = previous_values.groupby('driver_uid')['departure_day'].shift(1)\n",
        "\n",
        "# routes_sorted['previous_departure_day'] = routes_sorted.groupby('driver_uid')['departure_day'].shift(1)\n",
        "routes_sorted = pd.merge(routes_sorted, previous_values, on=['driver_uid','departure_day'])\n",
        "\n",
        "first_departure_day = routes_sorted.groupby('driver_uid')['departure_day'].min().reset_index(name='first_departure_day')\n",
        "\n",
        "routes_sorted = pd.merge(routes_sorted, first_departure_day, on='driver_uid')\n",
        "routes_sorted['days_post_start'] = pd.to_timedelta(routes_sorted['departure_day'] - routes_sorted['first_departure_day']).dt.days\n",
        "\n",
        "routes_sorted['driver_status'] = 'New'\n",
        "routes_sorted.loc[(routes_sorted['previous_departure_day'].notnull()) & (routes_sorted['previous_departure_day'] < routes_sorted['departure_day']), 'driver_status'] = 'Returning'\n",
        "routes_sorted.drop(columns=['previous_departure_day'], inplace=True)"
      ]
    },
    {
      "cell_type": "code",
      "execution_count": null,
      "metadata": {
        "id": "rxxvdoDFiYE4"
      },
      "outputs": [],
      "source": [
        "# Visualisation du nombre quotidien de conducteurs par status du conducteur\n",
        "\n",
        "users_per_status = routes_sorted.groupby(['departure_day','driver_status'])['driver_uid'].nunique().reset_index(name='number of users')\n",
        "users_per_status.columns = ['departure day', 'driver status', 'number of users']\n",
        "\n",
        "fig = px.bar(users_per_status, x='departure day', y='number of users', color='driver status', title='Number of Drivers by Day and Status', barmode='stack')\n",
        "fig.show()"
      ]
    },
    {
      "cell_type": "code",
      "execution_count": null,
      "metadata": {
        "id": "3xxzbPwj7_Ka"
      },
      "outputs": [],
      "source": [
        "# Visualisation du nombre quotidien de conducteurs par status du conducteur (100% stacked bars)\n",
        "\n",
        "pivot_us = users_per_status.pivot(index='departure day', columns='driver status', values='number of users')\n",
        "pivot_us = round(pivot_us.div(pivot_us.sum(axis=1), axis=0) * 100,2)\n",
        "users_per_status_normalized = pivot_us.reset_index().melt(id_vars='departure day', var_name='driver status', value_name='percentage')\n",
        "\n",
        "fig = px.bar(users_per_status_normalized, x='departure day', y='percentage', color='driver status', title='Number of Drivers by Day and Status (Stacked to 100%)', barmode='stack')\n",
        "fig.show()"
      ]
    },
    {
      "cell_type": "code",
      "execution_count": null,
      "metadata": {
        "id": "Tj7T3vDhnOw5"
      },
      "outputs": [],
      "source": [
        "# Visualisation du nomber quotidien de trajets par status du conducteur\n",
        "\n",
        "rides_per_status = routes_sorted.groupby(['departure_day','driver_status'])['_id'].nunique().reset_index(name='number of rides')\n",
        "rides_per_status.columns = ['departure day', 'driver status', 'number of rides']\n",
        "\n",
        "fig = px.bar(rides_per_status, x='departure day', y='number of rides', color='driver status', title='Number of Rides by Day and Status', barmode='stack')\n",
        "fig.show()"
      ]
    },
    {
      "cell_type": "markdown",
      "metadata": {
        "id": "Wa1_x3N7mkdA"
      },
      "source": [
        "> 80% des conducteurs quotidiens sont des new, et le reste sont des returning. Ceci est plutôt positif et indique qu'il y a bien des utilisateurs \"fidèles\" (ce qui confirme ce qu'on avait conclu dans la dernière partie du paragraphe Daily usage - Users).\n",
        "\n",
        "> En termes de trajets, il y a plus de trajets effectués par les returning (entre 4k et 6k trajets par jour) que par les new (entre 1.5k et 2.5k trajets par jour). Les returning font donc plus de trajets par conducteur que les new (les conducteurs font donc plus de trajets après le premier jour d'utilisation)."
      ]
    },
    {
      "cell_type": "code",
      "execution_count": null,
      "metadata": {
        "id": "2S7FxpUu3RyP"
      },
      "outputs": [],
      "source": [
        "# Distribution du nombre de trajets par jours post premier jour\n",
        "\n",
        "users_per_days_post_start = routes_sorted.groupby(['days_post_start','driver_status'])['_id'].nunique().reset_index(name='number of rides')\n",
        "users_per_days_post_start.columns = ['days post start day', 'driver status', 'number of rides']\n",
        "\n",
        "fig = px.bar(users_per_days_post_start[users_per_days_post_start['driver status']==\"Returning\"], x='days post start day', y='number of rides', color='driver status', title='Number of Rides by Number of Days Post Start Day - Returning Users', barmode='stack')\n",
        "fig.update_traces(marker_color='red')\n",
        "fig.show()"
      ]
    },
    {
      "cell_type": "code",
      "execution_count": null,
      "metadata": {
        "id": "uO9Tdw6__CxD"
      },
      "outputs": [],
      "source": [
        "fig = px.histogram(routes_sorted[routes_sorted['driver_status']==\"Returning\"], x=\"days_post_start\", histnorm='probability density', cumulative = True)\n",
        "fig.update_traces(marker_color='red')\n",
        "fig.show()"
      ]
    },
    {
      "cell_type": "markdown",
      "metadata": {
        "id": "yZZpS1wi-s6y"
      },
      "source": [
        "> ~23% des trajets des returning sont effectués dans les 5 jours post jour de début (le jour de début exclu), et 50% dont effectués dans les 10 jours post premier jour.\n",
        "\n",
        "> On a une bonne contuinuité d'usage, donc un bon potentiel de rétention."
      ]
    },
    {
      "cell_type": "markdown",
      "metadata": {
        "id": "RpBNFmr6malV"
      },
      "source": [
        "### 4. \"Demand\" & trip duration"
      ]
    },
    {
      "cell_type": "code",
      "execution_count": null,
      "metadata": {
        "id": "QTmxLSZRp9nC"
      },
      "outputs": [],
      "source": [
        "# Time-of-Day Analysis - test\n",
        "\n",
        "# plt.figure(figsize=(12, 6))\n",
        "# sns.histplot(routes['departure'].dt.hour, bins=24, color='blue', alpha=0.5, label='Departure')\n",
        "# sns.histplot(routes['arrival'].dt.hour, bins=24, color='red', alpha=0.5, label='Arrival')\n",
        "# plt.xlabel('Hour of Day')\n",
        "# plt.ylabel('Frequency')\n",
        "# plt.title('Distribution of Departure and Arrival Hours')\n",
        "# plt.legend()\n",
        "# plt.show()"
      ]
    },
    {
      "cell_type": "code",
      "execution_count": null,
      "metadata": {
        "id": "u7xR0iZxuKx4"
      },
      "outputs": [],
      "source": [
        "# Analyse des heures de pic\n",
        "\n",
        "fig = go.Figure()\n",
        "fig.add_trace(go.Histogram(x=routes['departure'].dt.hour, name='Departure', marker_color='blue', opacity=0.5))\n",
        "fig.add_trace(go.Histogram(x=routes['arrival'].dt.hour, name='Arrival', marker_color='red', opacity=0.5))\n",
        "fig.update_layout(barmode='overlay', xaxis_title='Hour of Day', yaxis_title='Frequency', title='Distribution of Departure and Arrival Hours')\n",
        "fig.update_xaxes(tickmode='linear')\n",
        "fig.show()"
      ]
    },
    {
      "cell_type": "markdown",
      "metadata": {
        "id": "110aANX5wBiO"
      },
      "source": [
        "> Les arrivées et les départs semblent suivrent la même distribution par heure. Les trajets sont situés en majorité dans l'intervalle 6h-20h, avec un léger pic entre 15h et 17h. Il n'y a pas de pic particulier qui se distingue au global. Ce qui serait intéressant pour aller plus loin est de tracer la même distribution par pays et/ou par ville afin de voir s'il y a des patterns qui resortent."
      ]
    },
    {
      "cell_type": "code",
      "execution_count": null,
      "metadata": {
        "id": "X-39Pc-e1q8f"
      },
      "outputs": [],
      "source": [
        "# Distribution des durées de trajet\n",
        "\n",
        "fig = px.histogram(routes, x='trip_duration_min', nbins=5000, title='Distribution of Ride Durations in Minutes')\n",
        "fig.show()"
      ]
    },
    {
      "cell_type": "code",
      "execution_count": null,
      "metadata": {
        "id": "j3xGLQlSFso0"
      },
      "outputs": [],
      "source": [
        "fig = px.box(routes, y=\"trip_duration_min\")\n",
        "fig.show()"
      ]
    },
    {
      "cell_type": "markdown",
      "metadata": {
        "id": "3HUmuydIGCCa"
      },
      "source": [
        "> Les durées des trajets sont dans leur majorité courts, avec 75% des trajets durant moins de 22 minutes, et la quasi majorité durant moins d'une heure. Ceci nous indique que les trajets sont -probablement- concentrés en Europe (naturellement au vu du marché de l'application, chose qu'on verra aussi dans les analyses géographiques du paragraphe V)."
      ]
    },
    {
      "cell_type": "code",
      "execution_count": null,
      "metadata": {
        "id": "jga6o9I4wP0p"
      },
      "outputs": [],
      "source": [
        "# Analyse des durées de trajet par mois\n",
        "\n",
        "fig = px.scatter(routes, x='departure_month', y='trip_duration_min', color='trip_duration_min', title='Trip Duration Distribution by Departue Month', labels={'departure_month': 'Departue Month', 'trip_duration_min': 'Trip Duration (min)'})\n",
        "fig.update_layout(showlegend=False)\n",
        "fig.update_xaxes(tickmode='linear')\n",
        "fig.show()"
      ]
    },
    {
      "cell_type": "code",
      "execution_count": null,
      "metadata": {
        "id": "4rK5lPIfJUW9"
      },
      "outputs": [],
      "source": [
        "fig = px.box(routes, x=\"departure_month\", y=\"trip_duration_min\")\n",
        "fig.update_xaxes(tickmode='linear')\n",
        "fig.show()"
      ]
    },
    {
      "cell_type": "markdown",
      "metadata": {
        "id": "X4aO1nPUIzZT"
      },
      "source": [
        "> La distribution des durées des trajets varie selon le mois. Il y a plus de trajets longs en période d'hiver (décembre à février) et notamment en février, mais qui ne représentent pas la majorité. En effet, en termes de distributions, cette période constitue celle avec une majoirité de trajets les plus courts par rapport aux autres périodes. En parallèle, la période Mars-Juin connait une majorité de trajets plus longs.\n",
        "\n",
        ">Voici un résumé de la distribution par mois:\n",
        "> - Décembre - Janvier - Février  : 75% des trajets durent moins de `21 minutes`, avec une médiane autour de 11 minutes\n",
        "> - Septembre - Octobre - Novembre: 75% des trajets durent moins de `24 minutes`, avec une médiane autour de 13 minutes\n",
        "> - Juillet - Août                : 75% des trajets durent moins de `30 minutes`, avec une médiane autour de 17 minutes\n",
        "> - Avril - Juin                  : 75% des trajets durent moins de `37 minutes`, avec une médiane autour de 25 minutes\n",
        "> - Mars - Mai                    : 75% des trajets durent moins de `43 minutes`, avec une médiane autour de 26 minutes"
      ]
    },
    {
      "cell_type": "code",
      "execution_count": null,
      "metadata": {
        "id": "l25cw5WEwTuN"
      },
      "outputs": [],
      "source": [
        "# Analyse des durées de trajet par heure\n",
        "\n",
        "fig = px.scatter(routes, x=routes['departure_hour'], y='trip_duration_min', color='trip_duration_min', title='Trip Duration Distribution by Departure Hour', labels={'departure': 'Hour', 'trip_duration_min': 'Trip Duration (min)'})\n",
        "fig.update_layout(showlegend=False)\n",
        "# fig.update_xaxes(tickmode='linear')\n",
        "fig.show()"
      ]
    },
    {
      "cell_type": "code",
      "execution_count": null,
      "metadata": {
        "id": "eheVuOpWMmHa"
      },
      "outputs": [],
      "source": [
        "fig = px.box(routes, x=\"departure_hour\", y=\"trip_duration_min\")\n",
        "fig.update_xaxes(tickmode='linear')\n",
        "fig.show()"
      ]
    },
    {
      "cell_type": "markdown",
      "metadata": {
        "id": "3ClPUpx-Mz-S"
      },
      "source": [
        "> La distribution des durées des trajets selon l'heure de départ est relativement plus uniforme. Il y a légèrement plus de trajets longs quand l'heure de départ est entre 2h et 5h, ce qui est logique (les longs trajets débuteront plus tôt le matin).\n",
        "\n",
        "`❗il faut zoomer sur les graphes, sinon les boxplots sont écrasés par les valeurs extrêmes ❗`"
      ]
    },
    {
      "cell_type": "markdown",
      "metadata": {
        "id": "QM_WHwhgmaqd"
      },
      "source": [
        "# V. Geographical distribution"
      ]
    },
    {
      "cell_type": "markdown",
      "metadata": {
        "id": "4xlDhkX5INWU"
      },
      "source": [
        "### 1. Geographical statistics"
      ]
    },
    {
      "cell_type": "code",
      "execution_count": null,
      "metadata": {
        "id": "ELnVe6jKgrhW"
      },
      "outputs": [],
      "source": [
        "# Analyse des trajets par ville de départ\n",
        "\n",
        "# rides_per_d_city = origin_routes_geo.groupby(['departure_city'])['_id'].nunique().reset_index(name='number_of_rides')\n",
        "rides_per_d_city = routes.groupby(['origin_city'])['_id'].nunique().reset_index(name='number_of_rides')\n",
        "rides_per_d_city = rides_per_d_city.sort_values(by = ['number_of_rides'], ascending = False).head(20)\n",
        "rides_per_d_city['percentage'] = rides_per_d_city['number_of_rides'] * 100/routes['_id'].nunique()\n",
        "\n",
        "fig = px.bar(rides_per_d_city, x='number_of_rides', y='origin_city', color='origin_city', title='Number of Rides by Departure City', orientation = 'h')\n",
        "for i, row in rides_per_d_city.iterrows():\n",
        "    fig.add_annotation(\n",
        "        x=row['number_of_rides'],  # x-coordinate position of the label\n",
        "        y=row['origin_city'],  # y-coordinate position of the label\n",
        "        text=f\"{row['percentage']:.2f}%\",  # text to display (percentage with two decimal places)\n",
        "        showarrow=False,  # do not show arrow\n",
        "        font=dict(color='black', size=10),  # font style\n",
        "        xshift=5  # adjust the horizontal position of the label\n",
        "    )\n",
        "fig.update_layout(yaxis={'categoryorder':'total ascending'})\n",
        "fig.show()"
      ]
    },
    {
      "cell_type": "code",
      "execution_count": null,
      "metadata": {
        "id": "SCJRbzX1qzaG"
      },
      "outputs": [],
      "source": [
        "# Analyse des trajets par ville d'arrivée\n",
        "\n",
        "# rides_per_d_city = origin_routes_geo.groupby(['arrival_city'])['_id'].nunique().reset_index(name='number_of_rides')\n",
        "rides_per_d_city = routes.groupby(['destination_city'])['_id'].nunique().reset_index(name='number_of_rides')\n",
        "rides_per_d_city = rides_per_d_city.sort_values(by = ['number_of_rides'], ascending = False).head(20)\n",
        "rides_per_d_city['percentage'] = rides_per_d_city['number_of_rides'] * 100/routes['_id'].nunique()\n",
        "\n",
        "fig = px.bar(rides_per_d_city, x='number_of_rides', y='destination_city', color='destination_city', title='Number of Rides by Arrival City', orientation = 'h')\n",
        "for i, row in rides_per_d_city.iterrows():\n",
        "    fig.add_annotation(\n",
        "        x=row['number_of_rides'],  # x-coordinate position of the label\n",
        "        y=row['destination_city'],  # y-coordinate position of the label\n",
        "        text=f\"{row['percentage']:.2f}%\",  # text to display (percentage with two decimal places)\n",
        "        showarrow=False,  # do not show arrow\n",
        "        font=dict(color='black', size=10),  # font style\n",
        "        xshift=5  # adjust the horizontal position of the label\n",
        "    )\n",
        "fig.update_layout(yaxis={'categoryorder':'total ascending'})\n",
        "fig.show()"
      ]
    },
    {
      "cell_type": "code",
      "execution_count": null,
      "metadata": {
        "id": "21AcjbQ2wbHu"
      },
      "outputs": [],
      "source": [
        "# Analyse des trajets par trajet effectué\n",
        "\n",
        "routes['ride'] = routes['origin_city'] + \"->\" + routes['destination_city']\n",
        "\n",
        "rides_per_d_city = routes.groupby(['ride'])['_id'].nunique().reset_index(name='number_of_rides')\n",
        "rides_per_d_city = rides_per_d_city.sort_values(by = ['number_of_rides'], ascending = False).head(20)\n",
        "rides_per_d_city['percentage'] = rides_per_d_city['number_of_rides'] * 100/routes['_id'].nunique()\n",
        "\n",
        "fig = px.bar(rides_per_d_city, x='number_of_rides', y='ride', color='ride', title='Number of Rides by Route', orientation = 'h')\n",
        "for i, row in rides_per_d_city.iterrows():\n",
        "    fig.add_annotation(\n",
        "        x=row['number_of_rides'],  # x-coordinate position of the label\n",
        "        y=row['ride'],  # y-coordinate position of the label\n",
        "        text=f\"{row['percentage']:.2f}%\",  # text to display (percentage with two decimal places)\n",
        "        showarrow=False,  # do not show arrow\n",
        "        font=dict(color='black', size=10),  # font style\n",
        "        xshift=5  # adjust the horizontal position of the label\n",
        "    )\n",
        "fig.update_layout(yaxis={'categoryorder':'total ascending'})\n",
        "fig.show()"
      ]
    },
    {
      "cell_type": "code",
      "execution_count": null,
      "metadata": {
        "id": "lycOc_LOEmlC"
      },
      "outputs": [],
      "source": [
        "# Proposition d'ajout de données iso de ville, pays, et continent\n",
        "\n",
        "# origin_routes_geo = routes[['origin_lat','origin_lng','_id']]\n",
        "# destinsation_routes_geo = routes[['destination_lat','destination_lng','_id']]"
      ]
    },
    {
      "cell_type": "code",
      "execution_count": null,
      "metadata": {
        "id": "iT6s1-IHTuUH"
      },
      "outputs": [],
      "source": [
        "# origin_routes_geo['departure_city'] = origin_routes_geo.apply(lambda row: getcity(row['origin_lat'], row['origin_lng']), axis=1)\n",
        "# origin_routes_geo['departure_country'] = origin_routes_geo.apply(lambda row: getcountry(row['origin_lat'], row['origin_lng']), axis=1)\n",
        "# origin_routes_geo['departure_region'] = origin_routes_geo.apply(lambda row: getreg(row['origin_lat'], row['origin_lng']), axis=1)"
      ]
    },
    {
      "cell_type": "code",
      "execution_count": null,
      "metadata": {
        "id": "Q7ueN9uRTiO4"
      },
      "outputs": [],
      "source": [
        "# destinsation_routes_geo['arrival_city'] = destinsation_routes_geo.apply(lambda row: getcity(row['destination_lat'], row['destination_lng']), axis=1)\n",
        "# destinsation_routes_geo['arrival_country'] = destinsation_routes_geo.apply(lambda row: getcountry(row['destination_lat'], row['destination_lng']), axis=1)\n",
        "# destinsation_routes_geo['arrival_region'] = destinsation_routes_geo.apply(lambda row: getreg(row['destination_lat'], row['destination_lng']), axis=1)"
      ]
    },
    {
      "cell_type": "code",
      "execution_count": null,
      "metadata": {
        "id": "1evNjWLKh0Ro"
      },
      "outputs": [],
      "source": [
        "# Analyse des trajets par pays de départ\n",
        "\n",
        "# rides_per_d_city = origin_routes_geo.groupby(['departure_country'])['_id'].nunique().reset_index(name='number_of_rides')\n",
        "\n",
        "# fig = px.bar(rides_per_d_city, x='number_of_rides', y='departure_country', color='departure_country', title='Number of Rides by Departure Country', orientation = 'h')\n",
        "# fig.update_layout(yaxis={'categoryorder':'total ascending'})\n",
        "# fig.show()"
      ]
    },
    {
      "cell_type": "markdown",
      "metadata": {
        "id": "uXL7HYSowFgD"
      },
      "source": [
        "> Les top 20 villes de départ et d'arrivées sont toutes en France, avec Paris, Marseille, Lyon, et Amiens dans les top 4.\n",
        "\n",
        "> Les trajets les plus fréquents sont intra-ville avec Paris-Paris, Marseille-Marseille dans le top 2."
      ]
    },
    {
      "cell_type": "markdown",
      "metadata": {
        "id": "9YNtHkrjIc4i"
      },
      "source": [
        "### 2. Other geographical visualisations"
      ]
    },
    {
      "cell_type": "code",
      "execution_count": null,
      "metadata": {
        "id": "ehoqbHrc3tTz"
      },
      "outputs": [],
      "source": [
        "city_data = routes.groupby(['origin_city']).agg(\n",
        "    trips = ('_id', 'nunique')\n",
        ").reset_index()\n",
        "\n",
        "city_data.columns = ['origin_city','trips']\n",
        "\n",
        "fig = px.scatter_geo( city_data,\n",
        "                      locations='origin_city',\n",
        "                      locationmode='country names',\n",
        "                      size='trips',\n",
        "                      hover_name='origin_city',\n",
        "                      projection='natural earth',\n",
        "                      title='Intensity of Rides by City')\n",
        "fig.update_layout(height=800, width=2000)\n",
        "fig.show()\n",
        "\n",
        "# fig = px.scatter_geo(city_data,\n",
        "#                     lat = 'latitude',\n",
        "#                     lon = 'longitude',\n",
        "#                     size='trips',\n",
        "#                     hover_name='origin_city',\n",
        "#                     # geojson='geometry',\n",
        "#                     title='Intensity of Departing Rides by City')\n",
        "# fig.update_layout(height=800, width=2000)\n",
        "# fig.show()"
      ]
    },
    {
      "cell_type": "markdown",
      "metadata": {
        "id": "6ggGUqmgBIuh"
      },
      "source": [
        "# VI. Correlation analysis"
      ]
    },
    {
      "cell_type": "code",
      "execution_count": null,
      "metadata": {
        "id": "U9JVQ7YK1HvF"
      },
      "outputs": [],
      "source": [
        "CategoryGroupLists = routes.groupby('ride')['length'].apply(list)\n",
        "AnovaResults = f_oneway(*CategoryGroupLists)\n",
        "print('P-Value for Anova is: ', AnovaResults[1])"
      ]
    },
    {
      "cell_type": "markdown",
      "metadata": {
        "id": "Gq9yHc1v1fxy"
      },
      "source": [
        "> La longueur du trajet dépend (évidemment) du trajet à effectuer (ville de départ et ville d'arrivée)."
      ]
    },
    {
      "cell_type": "code",
      "execution_count": null,
      "metadata": {
        "id": "F4xc3Mpx1wiH"
      },
      "outputs": [],
      "source": [
        "CategoryGroupLists = routes.groupby('status')['reward_value'].apply(list)\n",
        "AnovaResults = f_oneway(*CategoryGroupLists)\n",
        "print('P-Value for Anova is: ', AnovaResults[1])"
      ]
    },
    {
      "cell_type": "code",
      "execution_count": null,
      "metadata": {
        "id": "GwAYJZg52Jpi"
      },
      "outputs": [],
      "source": [
        "fig = px.box(routes[routes[\"reward_currency\"]==\"EUR\"], x=\"status\", y=\"reward_value\")\n",
        "fig.show()"
      ]
    },
    {
      "cell_type": "code",
      "execution_count": null,
      "metadata": {
        "id": "GVXOpRxD2iEL"
      },
      "outputs": [],
      "source": [
        "fig = px.box(routes[routes[\"reward_currency\"]==\"EUR\"], x=\"trip_duration_bin\", y=\"reward_value\")\n",
        "fig.show()"
      ]
    },
    {
      "cell_type": "markdown",
      "metadata": {
        "id": "EVor2m-68Hv6"
      },
      "source": [
        "> La valeur de la récompense est corrélée au status (il y a plus de récompense pour les trajets complétés qu'annulés, ce qui est rassurant, mais il faut investiguer les quelques outliers qui apparaissent. Pourquoi certains conducteur ont reçu une récompense de 50€ pour des trajets annulés?) et à la longueur du trajet. Les trajets très longs et très courts ont moins de récompenses."
      ]
    },
    {
      "cell_type": "markdown",
      "metadata": {
        "id": "kzlyDl9pMy01"
      },
      "source": [
        "# Take aways & next steps\n",
        "\n",
        "---"
      ]
    },
    {
      "cell_type": "markdown",
      "metadata": {
        "id": "zm13g5IUM3Ku"
      },
      "source": [
        "#### **Take aways**\n",
        "\n",
        "* `Data processing`\n",
        "  * Cette partie est celle qui a pris le plus de temps. S'assurer que les données sont cohérentes et complètes est généralement la plus grande partie du travail\n",
        "\n",
        "  * Nous avons constaté l'existance de valeurs (très) extêmes, notamment au niveau des longueurs (et donc durées) des trajets. Nous avons procédé à les garder vu que ces trajets sont théoriquement possibles. Cependant, pour des analyses plus ciblées, il peut être pertinent de les retirer (des points qui se décident généralement en coordination avec le business)\n",
        "  \n",
        "  * Voici quelques enrichissements possibles aux données existantes:\n",
        "    * Création d'un ID de trajet consistant, dépendant de l'heure de départ et d'arrivée du trajet, l'ID du client, et les coorodnnées de départ et de destination. Ceci permettra par exepmple le problème des trajet qui ont le statut `CREATED` uniquement (la plupart étant des trajets qui ont été annulés mais dont l'ID a changé)\n",
        "    * Nettoyage des données des trajets en faisant le lien entre les trajets sans \"fin\" et le reste\n",
        "    * Normalisation des données de ville, région, pays, et continent, pour qu'ils soient sous un format iso et facile à visualiser\n",
        "\n",
        "\n",
        "* `Usage`\n",
        "\n",
        "  * Entre 4.5k et 6k trajets sont effectués chaque jour, et ce depuis février 2024. Le nombre de trajets quotidiens est en augmentation constante: On est passé de 5,710 trajets en moyenne par jour en janvier 2024, à 6,161 trajets en moyenne par jour en février 2024 (+8%), versus 3,640 en décembre 2023 (+69%)\n",
        "\n",
        "  * Une grande partie des trajets quotidiens est finsalisée, notamment depuis Juillet 2023 (i.e le moment où le nombre de trajets a commencé à devenir significatif). Le nombre de trajets finalisés représente plus de 75% des trajets\n",
        "\n",
        "  * Le nombre de trajets annulés a connu une légère augmentation depuis Novembre 2023, passant de ~20% à ~30% des trajets\n",
        "\n",
        "  * Entre 80% et 92% des trajets (jusqu'à 7.5k trajets par jour) sont sans passager, ce qui est un grand axe de réflexion (est-ce un point saillant? si oui, comment encourager les utilisateurs à prendre des passagers?)\n",
        "\n",
        "  * En termes de conducteurs, on a atteint ~3k conducteur par jour en février 2024. En zoomant sur le type de trajet : 85% à 90% des conducteurs quotidiens (2.5k à 3k conducteur par jour) n'effectuent que des trajets récompensés, i.e sans passager, 10% à 13% des conducteurs font les deux, et moins de 3% ne font que des trajets non récompensés.\n",
        "\n",
        "  * 90% des trajets effectués sont courts (moins de 30 minutes). Voici quelques statistiques:\n",
        "\n",
        "    * 40% à 50% des trajets (entre 3k et 3.7k trajets par jour) sont des trajets très courts (moins de 10 minutes)\n",
        "    * ~ 40% des trajets (~ 3k trajets par jours) sont des trajets courts (entre 10 et 30 minutes)\n",
        "    * 10% à 15% des trajets quotidiens (~ 700-800 trajets par jour) sont moyens (entre 30 minutes et 1 heure)\n",
        "    * 2% à 3% des trajets (~150 trajets par jour) sont longs (entre 1 et 2 heures)\n",
        "    * <= 3% des trajets (150 à 200 trajets par jour) sont très longs (plus de 2h, avec un maximum à 8,381 minutes = ~5 jours et 19 heures)\n",
        "\n",
        "  * Vu que 75% des conducteurs font moins de 7 trajets, sont actifs pendant uniquement 1 mois, et font moins de 6 trajets par mois en moyenne, nous pouvons considérer tout conducteurs qui se situe au dessus de ces valeurs et qui a été actif récemment un conducteur \"fidèle\" (nous pouvons mieux explorer la notion de rétention, i.e l'étalement dans le temps de l'activité par exemple, et créer ainsi une métrique mixte de \"fidélisation\" ou \"non churn\")\n",
        "\n",
        "\n",
        "* `Aquisition & rétention`\n",
        "\n",
        "  * 80% des conducteurs quotidiens sont des new, et le reste sont des returning. Ceci est plutôt positif et indique qu'il y a bien des utilisateurs \"fidèles\" (ce qui confirme ce qu'on avait conclu dans la dernière partie du paragraphe Daily usage - Users)\n",
        "  \n",
        "  * En termes de trajets, il y a plus de trajets effectués par les returning (entre 4k et 6k trajets par jour) que par les new (entre 1.5k et 2.5k trajets par jour). Les returning font donc plus de trajets par conducteur que les new (en d'autres termes les conducteurs font plus de trajets après le premier jour d'utilisation que pendant le premier jour)\n",
        "\n",
        "  * ~23% des trajets des returning sont effectués dans les 5 jours post jour de début (le jour de début exclu), et 50% dont effectués dans les 10 jours post premier jour. On a une bonne contuinuité d'usage, donc un bon potentiel de rétention sur les utilisateurs qui reviennent au moins une fois\n",
        "\n",
        "\n",
        "* `Heures de pic`\n",
        "\n",
        "  * Les arrivées et les départs semblent suivrent la même distribution par heure. Les trajets sont situés en majorité dans l'intervalle 6h-20h, avec un léger pic entre 15h et 17h. Il n'y a pas de pic particulier qui se distingue au global\n",
        "\n",
        "  * La distribution des durées des trajets selon l'heure de départ est relativement plus uniforme. Il y a légèrement plus de trajets longs quand l'heure de départ est entre 2h et 5h, ce qui est logique (les longs trajets débuteront plus tôt le matin)\n",
        "\n",
        "  * La distribution des durées des trajets varie selon le mois. Il y a plus de trajets longs en période d'hiver (décembre à février) et notamment en février, mais qui ne représentent pas la majorité (i.e il y a plus de valeurs extrêmes). En effet, en termes de distributions, cette période constitue celle avec une majoirité de trajets les plus courts par rapport aux autres périodes. En parallèle, la période Mars-Juin connait une majorité de trajets plus longs.\n",
        "\n",
        "  * Voici un résumé de la distribution par mois:\n",
        "\n",
        "    * Décembre - Janvier - Février : 75% des trajets durent moins de 21 minutes, avec une médiane autour de 11 minutes\n",
        "    * Septembre - Octobre - Novembre: 75% des trajets durent moins de 24 minutes, avec une médiane autour de 13 minutes\n",
        "    * Juillet - Août : 75% des trajets durent moins de 30 minutes, avec une médiane autour de 17 minutes\n",
        "    * Avril - Juin : 75% des trajets durent moins de 37 minutes, avec une médiane autour de 25 minutes\n",
        "    * Mars - Mai : 75% des trajets durent moins de 43 minutes, avec une médiane autour de 26 minutes\n",
        "\n",
        "\n",
        "* `Distributions géographiques`\n",
        "\n",
        "  * Les top 20 villes de départ et d'arrivées sont toutes en France, avec Paris, Marseille, Lyon, et Amiens dans les top 4\n",
        "\n",
        "  * Les trajets les plus fréquents sont intra-ville avec Paris-Paris, Marseille-Marseille dans le top 2"
      ]
    },
    {
      "cell_type": "markdown",
      "metadata": {
        "id": "0kqmA9sP-rNi"
      },
      "source": [
        "#### **Pour aller plus loin**\n",
        "\n",
        "* Ce serait intéressant de visualiser les trajets uniques (suite à la redéfinition d'un ID consistant de trajet unique) et voir quels trajets sont les plus effectués par mois par exemple (il se peut qu'il y ait des trajets plus fréquents pendant des périodes précises)\n",
        "\n",
        "* Une visualisation géographique plus pratique peut être faite via Looker Studio ou Tableau. Les visualisations géographiques sur Google Colab ou Jupyter Notebook sont lourdes quand la taille des données dépasse un certain seuil (les outils de viz sont plus pratiques dans ces cas là)\n",
        "\n",
        "* Des analyse prédictives peuvent être faites :\n",
        "\n",
        "  * Prédiction de la longueur du trajet, de sa complétion (done ou canceled) selon les données liées au trajet et à l'historique du conducteur\n",
        "\n",
        "  * Prédiction de la performance d'un conducteur (LTV, taux de complétion, rétention, etc) selon l'historique d'usage\n",
        "  \n",
        "  * etc\n",
        "\n",
        "* Des analyses plus approfondies de corrélations peuvent être faites :\n",
        "\n",
        "  * Corrélation entre la longueur d'un trajet et le croisement heure du jour x mois\n",
        "\n",
        "  * Corrélation entre les départs / destinations et le status du trajet (récompensé ou pas)\n",
        "\n",
        "  * Corrélation entre le status du trajet et le status du conducteur (new/returning)\n",
        "\n",
        "  * Corrélation entre le nombre de trajets par conducteur et la ville de départ\n",
        "\n",
        "  * Corrélation entre le nombre de trajets par conducteur et le mois\n",
        "\n",
        "  * etc"
      ]
    }
  ],
  "metadata": {
    "accelerator": "GPU",
    "colab": {
      "collapsed_sections": [
        "vpbe2k34pzY9",
        "z1WGHCYAIztx"
      ],
      "gpuType": "T4",
      "provenance": []
    },
    "kernelspec": {
      "display_name": "Python 3",
      "name": "python3"
    },
    "language_info": {
      "name": "python"
    }
  },
  "nbformat": 4,
  "nbformat_minor": 0
}
